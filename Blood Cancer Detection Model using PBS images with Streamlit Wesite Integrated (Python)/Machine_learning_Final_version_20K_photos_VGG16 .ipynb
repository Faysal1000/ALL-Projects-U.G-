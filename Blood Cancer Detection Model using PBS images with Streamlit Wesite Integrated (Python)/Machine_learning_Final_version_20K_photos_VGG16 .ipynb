{
  "cells": [
    {
      "cell_type": "code",
      "execution_count": null,
      "metadata": {},
      "outputs": [],
      "source": [
        "    \"\"\"\n",
        "    #Go to anadoconda promt and give the commands\n",
        "\n",
        "    conda create -n py310 python=3.10\n",
        "    conda activate py310\n",
        "    conda install -c conda-forge cudatoolkit=11.2 cudnn=8.1.0\n",
        "    python -m pip install \"tensorflow<2.11\" \"numpy<2.0\" opencv-python matplotlib scikit-learn pandas seaborn\n",
        "\n",
        "    #After that select the py310 kernal for executing the code\n",
        "    #if you have conda setted up first then just execute this cell, that will be enough\n",
        "    \"\"\"\n",
        "    !python -m pip install \"tensorflow<2.11\" \"numpy<2.0\" opencv-python matplotlib scikit-learn pandas seaborn xgboost lightgbm"
      ]
    },
    {
      "cell_type": "code",
      "execution_count": null,
      "metadata": {
        "id": "cciK4J_UoVDL"
      },
      "outputs": [],
      "source": [
        "# Clear all variables in the current session\n",
        "# Only run this if you want to delete all run time variable from this kernel\n",
        "from IPython import get_ipython\n",
        "get_ipython().magic('reset -sf')"
      ]
    },
    {
      "cell_type": "code",
      "execution_count": 1,
      "metadata": {
        "id": "0WkGs0tsyMme"
      },
      "outputs": [],
      "source": [
        "# %% Import Libraries\n",
        "\n",
        "# Standard Libraries\n",
        "import os\n",
        "import shutil\n",
        "\n",
        "# Data Manipulation and Visualization\n",
        "import numpy as np\n",
        "import pandas as pd\n",
        "import matplotlib.pyplot as plt\n",
        "import h5py\n",
        "\n",
        "# TensorFlow/Keras\n",
        "import tensorflow as tf\n",
        "from tensorflow.keras.preprocessing.image import ImageDataGenerator\n",
        "from tensorflow.keras.models import Model\n",
        "from tensorflow.keras.layers import (\n",
        "    Dense, GlobalAveragePooling2D, \n",
        "    Multiply, Reshape\n",
        ")\n",
        "from tensorflow.keras.optimizers import Adam\n",
        "\n",
        "# Predefined CNN Models\n",
        "from tensorflow.keras.applications import (\n",
        "    VGG16, VGG19,\n",
        "    ResNet50, ResNet101, ResNet152,\n",
        "    ResNet50V2, ResNet101V2, ResNet152V2,\n",
        "    InceptionV3, InceptionResNetV2,\n",
        "    DenseNet121, DenseNet169, DenseNet201,\n",
        "    EfficientNetB0, EfficientNetB1, EfficientNetB2, EfficientNetB3,\n",
        "    EfficientNetB4, EfficientNetB5, EfficientNetB6, EfficientNetB7,\n",
        "    MobileNet, MobileNetV2, MobileNetV3Small, MobileNetV3Large,\n",
        "    NASNetMobile, NASNetLarge,\n",
        "    Xception\n",
        ")\n",
        "\n",
        "# Evaluation Metrics\n",
        "from sklearn.metrics import (\n",
        "    accuracy_score, precision_score, recall_score, f1_score,\n",
        "    confusion_matrix, ConfusionMatrixDisplay\n",
        ")\n",
        "\n",
        "# Machine Learning Classifiers\n",
        "from sklearn.ensemble import (\n",
        "    RandomForestClassifier, GradientBoostingClassifier, AdaBoostClassifier, \n",
        "    ExtraTreesClassifier, VotingClassifier, StackingClassifier\n",
        ")\n",
        "from sklearn.neighbors import KNeighborsClassifier\n",
        "from sklearn.linear_model import LogisticRegression\n",
        "from sklearn.svm import SVC\n",
        "from sklearn.tree import DecisionTreeClassifier\n",
        "from sklearn.naive_bayes import GaussianNB\n",
        "from sklearn.neural_network import MLPClassifier\n",
        "from xgboost import XGBClassifier\n",
        "from lightgbm import LGBMClassifier\n",
        "\n",
        "#for saving model\n",
        "import pickle\n",
        "# Google Drive Integration if you use colab\n",
        "#from google.colab import drive\n",
        "#import zipfile\n"
      ]
    },
    {
      "cell_type": "markdown",
      "metadata": {},
      "source": [
        "> This porton of code detects any available GPU and set its memory growth equals \"True\" so that the process will take only necessary amount of memory in GPU and won't take every bit of available memory and prevent out of memory error"
      ]
    },
    {
      "cell_type": "code",
      "execution_count": 2,
      "metadata": {
        "colab": {
          "base_uri": "https://localhost:8080/"
        },
        "id": "ngUYlRqzyJ7G",
        "outputId": "8e64d57d-437d-4f8c-e9a3-038895e6194a"
      },
      "outputs": [
        {
          "name": "stdout",
          "output_type": "stream",
          "text": [
            "No GPUs detected.\n"
          ]
        }
      ],
      "source": [
        "gpus = tf.config.list_physical_devices('GPU')\n",
        "if gpus:\n",
        "    try:\n",
        "        for gpu in gpus:\n",
        "            tf.config.experimental.set_memory_growth(gpu, True)\n",
        "        print(f\"GPUs detected: {len(gpus)}\")\n",
        "    except RuntimeError as e:\n",
        "        print(f\"Error setting GPU memory growth: {e}\")\n",
        "else:\n",
        "    print(\"No GPUs detected.\")"
      ]
    },
    {
      "cell_type": "markdown",
      "metadata": {},
      "source": [
        "> This will mount google drive account with this python notebook"
      ]
    },
    {
      "cell_type": "code",
      "execution_count": null,
      "metadata": {
        "colab": {
          "base_uri": "https://localhost:8080/"
        },
        "id": "MycqvJpnyI-W",
        "outputId": "24f10971-f3bc-48ab-888f-6ff7a906c5e2"
      },
      "outputs": [
        {
          "name": "stdout",
          "output_type": "stream",
          "text": [
            "Mounted at /content/drive\n"
          ]
        }
      ],
      "source": [
        "drive.mount('/content/drive')"
      ]
    },
    {
      "cell_type": "markdown",
      "metadata": {},
      "source": [
        "> This will copy the dataset zip file path from drive to colab environment and then unzip the file in colab disk  "
      ]
    },
    {
      "cell_type": "code",
      "execution_count": null,
      "metadata": {
        "colab": {
          "base_uri": "https://localhost:8080/"
        },
        "id": "JSjB6gknw98_",
        "outputId": "763d2fcb-ca2d-4e1e-8501-229d0a2f580c"
      },
      "outputs": [
        {
          "name": "stdout",
          "output_type": "stream",
          "text": [
            "Dataset successfully extracted to: /content\n",
            "Contents of the extracted folder:\n",
            "['.config', 'blood-cancer.zip', 'blood Cancer', 'drive', 'sample_data']\n"
          ]
        }
      ],
      "source": [
        "drive_zip_path = '/content/drive/MyDrive/Dataset/blood-cancer.zip'  # Replace with the actual path to your .zip file in Drive\n",
        "colab_zip_path = '/content/blood-cancer.zip'  # Destination path in Colab environment\n",
        "\n",
        "shutil.copy(drive_zip_path, colab_zip_path)\n",
        "\n",
        "extracted_path = '/content'  # Destination folder for unzipped content\n",
        "os.makedirs(extracted_path, exist_ok=True)\n",
        "\n",
        "with zipfile.ZipFile(colab_zip_path, 'r') as zip_ref:\n",
        "    zip_ref.extractall(extracted_path)\n",
        "\n",
        "print(f\"Dataset successfully extracted to: {extracted_path}\")"
      ]
    },
    {
      "cell_type": "markdown",
      "metadata": {},
      "source": [
        "> Here the image dataset path is provided along with img size and batch size and others global variables "
      ]
    },
    {
      "cell_type": "code",
      "execution_count": 3,
      "metadata": {
        "id": "jm_Tp21fRk3O"
      },
      "outputs": [],
      "source": [
        "dataset_path = \"/content/blood Cancer/ALL\"\n",
        "\n",
        "classes= [\"all_benign\", \"all_early\", \"all_pre\", \"all_pro\"]\n",
        "# Global variable for batch size\n",
        "BATCH_SIZE = 32\n",
        "\n",
        "# Define dataset paths\n",
        "train_dir = os.path.join(dataset_path, \"train\")\n",
        "test_dir = os.path.join(dataset_path, \"test\")\n",
        "\n",
        "# Image size and number of classes\n",
        "img_size = (224, 224)\n",
        "num_classes = 4  # For Binary classification use 1"
      ]
    },
    {
      "cell_type": "markdown",
      "metadata": {},
      "source": [
        "> Get a feature extraction model dynamically based on the given model name.\n",
        "\n",
        "* Parameters:\n",
        "    * model_name (str): The name of the model. It should match one of the models in `tensorflow.keras.applications`.\n",
        "    * input_shape (tuple): The input shape for the model.\n",
        "\n",
        "* Returns:\n",
        "    * Model: A Keras Model configured for feature extraction.\n"
      ]
    },
    {
      "cell_type": "code",
      "execution_count": 4,
      "metadata": {
        "id": "GnR_KGG3G7zz"
      },
      "outputs": [],
      "source": [
        "#Get feature extractor function\n",
        "def get_feature_extractor(model_name, input_shape=(224, 224, 3)):\n",
        "    \n",
        "    if model_name == \"VGG16\":\n",
        "        base_model = VGG16(weights=\"imagenet\", include_top=False, input_shape=input_shape)\n",
        "    elif model_name == \"VGG19\":\n",
        "        base_model = VGG19(weights=\"imagenet\", include_top=False, input_shape=input_shape)\n",
        "    elif model_name == \"ResNet50\":\n",
        "        base_model = ResNet50(weights=\"imagenet\", include_top=False, input_shape=input_shape)\n",
        "    elif model_name == \"ResNet101\":\n",
        "        base_model = ResNet101(weights=\"imagenet\", include_top=False, input_shape=input_shape)\n",
        "    elif model_name == \"ResNet152\":\n",
        "        base_model = ResNet152(weights=\"imagenet\", include_top=False, input_shape=input_shape)\n",
        "    elif model_name == \"ResNet50V2\":\n",
        "        base_model = ResNet50V2(weights=\"imagenet\", include_top=False, input_shape=input_shape)\n",
        "    elif model_name == \"ResNet101V2\":\n",
        "        base_model = ResNet101V2(weights=\"imagenet\", include_top=False, input_shape=input_shape)\n",
        "    elif model_name == \"ResNet152V2\":\n",
        "        base_model = ResNet152V2(weights=\"imagenet\", include_top=False, input_shape=input_shape)\n",
        "    elif model_name == \"InceptionV3\":\n",
        "        base_model = InceptionV3(weights=\"imagenet\", include_top=False, input_shape=input_shape)\n",
        "    elif model_name == \"InceptionResNetV2\":\n",
        "        base_model = InceptionResNetV2(weights=\"imagenet\", include_top=False, input_shape=input_shape)\n",
        "    elif model_name == \"DenseNet121\":\n",
        "        base_model = DenseNet121(weights=\"imagenet\", include_top=False, input_shape=input_shape)\n",
        "    elif model_name == \"DenseNet169\":\n",
        "        base_model = DenseNet169(weights=\"imagenet\", include_top=False, input_shape=input_shape)\n",
        "    elif model_name == \"DenseNet201\":\n",
        "        base_model = DenseNet201(weights=\"imagenet\", include_top=False, input_shape=input_shape)\n",
        "    elif model_name == \"EfficientNetB0\":\n",
        "        base_model = EfficientNetB0(weights=\"imagenet\", include_top=False, input_shape=input_shape)\n",
        "    elif model_name == \"EfficientNetB1\":\n",
        "        base_model = EfficientNetB1(weights=\"imagenet\", include_top=False, input_shape=input_shape)\n",
        "    elif model_name == \"EfficientNetB2\":\n",
        "        base_model = EfficientNetB2(weights=\"imagenet\", include_top=False, input_shape=input_shape)\n",
        "    elif model_name == \"EfficientNetB3\":\n",
        "        base_model = EfficientNetB3(weights=\"imagenet\", include_top=False, input_shape=input_shape)\n",
        "    elif model_name == \"EfficientNetB4\":\n",
        "        base_model = EfficientNetB4(weights=\"imagenet\", include_top=False, input_shape=input_shape)\n",
        "    elif model_name == \"EfficientNetB5\":\n",
        "        base_model = EfficientNetB5(weights=\"imagenet\", include_top=False, input_shape=input_shape)\n",
        "    elif model_name == \"EfficientNetB6\":\n",
        "        base_model = EfficientNetB6(weights=\"imagenet\", include_top=False, input_shape=input_shape)\n",
        "    elif model_name == \"EfficientNetB7\":\n",
        "        base_model = EfficientNetB7(weights=\"imagenet\", include_top=False, input_shape=input_shape)\n",
        "    elif model_name == \"MobileNet\":\n",
        "        base_model = MobileNet(weights=\"imagenet\", include_top=False, input_shape=input_shape)\n",
        "    elif model_name == \"MobileNetV2\":\n",
        "        base_model = MobileNetV2(weights=\"imagenet\", include_top=False, input_shape=input_shape)\n",
        "    elif model_name == \"MobileNetV3Small\":\n",
        "        base_model = MobileNetV3Small(weights=\"imagenet\", include_top=False, input_shape=input_shape)\n",
        "    elif model_name == \"MobileNetV3Large\":\n",
        "        base_model = MobileNetV3Large(weights=\"imagenet\", include_top=False, input_shape=input_shape)\n",
        "    elif model_name == \"NASNetMobile\":\n",
        "        base_model = NASNetMobile(weights=\"imagenet\", include_top=False, input_shape=input_shape)\n",
        "    elif model_name == \"NASNetLarge\":\n",
        "        base_model = NASNetLarge(weights=\"imagenet\", include_top=False, input_shape=input_shape)\n",
        "    elif model_name == \"Xception\":\n",
        "        base_model = Xception(weights=\"imagenet\", include_top=False, input_shape=input_shape)\n",
        "    else:\n",
        "        raise ValueError(f\"Model '{model_name}' is not available in tensorflow.keras.applications. Check the spelling or ensure the model is supported.\")\n",
        "\n",
        "    # Add a global average pooling layer for feature extraction\n",
        "    gap = GlobalAveragePooling2D()(base_model.output)\n",
        "    se = Dense(base_model.output_shape[-1] // 16, activation=\"relu\")(gap)\n",
        "    se = Dense(base_model.output_shape[-1], activation=\"sigmoid\")(se)\n",
        "    se = Reshape((1, 1, -1))(se)\n",
        "    x = Multiply()([base_model.output, se])\n",
        "    x = GlobalAveragePooling2D()(x)  # Final feature extraction\n",
        "    feature_extractor = Model(inputs=base_model.input, outputs=x)\n",
        "\n",
        "    return feature_extractor"
      ]
    },
    {
      "cell_type": "markdown",
      "metadata": {},
      "source": [
        "> This will define the train data and test data generator for batch wise feature extraction from photos"
      ]
    },
    {
      "cell_type": "code",
      "execution_count": 5,
      "metadata": {
        "colab": {
          "base_uri": "https://localhost:8080/"
        },
        "id": "WnioFhGGHH6r",
        "outputId": "abcf6a7f-38f5-4188-dfd7-7d305500ac03"
      },
      "outputs": [
        {
          "name": "stdout",
          "output_type": "stream",
          "text": [
            "Found 0 images belonging to 4 classes.\n",
            "Found 0 images belonging to 4 classes.\n"
          ]
        }
      ],
      "source": [
        "# Load dataset\n",
        "class_mode = 'binary' if num_classes == 1 else 'categorical'\n",
        "datagen = ImageDataGenerator(rescale=1.0 / 255.0)\n",
        "\n",
        "train_dataset = datagen.flow_from_directory(\n",
        "    train_dir, target_size=img_size, batch_size=BATCH_SIZE, class_mode=class_mode, classes= classes,  shuffle=False\n",
        ")\n",
        "test_dataset = datagen.flow_from_directory(\n",
        "    test_dir, target_size=img_size, batch_size=BATCH_SIZE, class_mode=class_mode, classes=classes, shuffle=False\n",
        ")"
      ]
    },
    {
      "cell_type": "markdown",
      "metadata": {},
      "source": [
        "> This function saves CNN features and corresponding labels incrementally to an HDF5 file. It processes the dataset in batches, extracts features using a given model, and appends them to the file. Supports compression and alignment checks, and prints progress every 50 steps and also freeup the memory after processing every batch."
      ]
    },
    {
      "cell_type": "code",
      "execution_count": 9,
      "metadata": {
        "id": "Pwq7gSahHkI7"
      },
      "outputs": [],
      "source": [
        "# Function to save features incrementally\n",
        "def save_cnn_features_and_labels_incrementally_to_h5(dataset, model, filename, steps):\n",
        "    with h5py.File(filename, 'a') as f:\n",
        "        for step, (batch, labels) in enumerate(dataset):\n",
        "            if step >= steps:  # Stop after the specified number of steps\n",
        "                break\n",
        "            #indicator after every 50 steps complete\n",
        "            if step % 50 == 0:\n",
        "                print(f\"Processing batch {step}-{min(step + 50, steps)}/{steps}\")\n",
        "            # Extract features\n",
        "            features = model.predict(batch, verbose=0)\n",
        "\n",
        "            # Ensure alignment between features and labels\n",
        "            assert features.shape[0] == labels.shape[0], (\n",
        "                f\"Mismatch in features ({features.shape[0]}) and labels ({labels.shape[0]}) sizes\"\n",
        "            )\n",
        "\n",
        "            if step == 0:  # First batch\n",
        "                # Determine maxshape for features and labels\n",
        "                feature_maxshape = (None, *features.shape[1:])  # Features can have more dimensions\n",
        "                label_maxshape = (None,) if len(labels.shape) == 1 else (None, *labels.shape[1:])\n",
        "\n",
        "                # Create datasets if they don't exist\n",
        "                if 'features' not in f:\n",
        "                    f.create_dataset('features', data=features, maxshape=feature_maxshape, compression='lzf')\n",
        "                if 'labels' not in f:\n",
        "                    f.create_dataset('labels', data=labels, maxshape=label_maxshape, compression='lzf')\n",
        "            else:\n",
        "                # Resize and append to existing datasets\n",
        "                if 'features' in f and 'labels' in f:\n",
        "                    f['features'].resize((f['features'].shape[0] + features.shape[0]), axis=0)\n",
        "                    f['features'][-features.shape[0]:] = features\n",
        "\n",
        "                    f['labels'].resize((f['labels'].shape[0] + labels.shape[0]), axis=0)\n",
        "                    f['labels'][-labels.shape[0]:] = labels\n",
        "                else:\n",
        "                    raise KeyError(\"Features or labels datasets are missing in the HDF5 file.\")\n",
        "\n",
        "            # Memory cleanup\n",
        "            del features, labels, batch\n",
        "            tf.keras.backend.clear_session()\n",
        "\n",
        "    print(f\"Features and labels saved to {filename}\")"
      ]
    },
    {
      "cell_type": "markdown",
      "metadata": {},
      "source": [
        "> Input any cnn model name to get the model for feature extraction "
      ]
    },
    {
      "cell_type": "code",
      "execution_count": null,
      "metadata": {
        "id": "0ftwpl7iHLdF"
      },
      "outputs": [],
      "source": [
        "cnn_model = get_feature_extractor(\"VGG16\", input_shape=(224, 224, 3))"
      ]
    },
    {
      "cell_type": "markdown",
      "metadata": {},
      "source": [
        "> defining the feature saving location in disk and storing features along with calculation of total steps(batch) required for completing the task"
      ]
    },
    {
      "cell_type": "code",
      "execution_count": null,
      "metadata": {
        "colab": {
          "base_uri": "https://localhost:8080/"
        },
        "id": "2GkwSvKqLkis",
        "outputId": "973bfe10-0e66-4a91-fcac-16ba6e08ce91"
      },
      "outputs": [
        {
          "name": "stdout",
          "output_type": "stream",
          "text": [
            "Processing batch 0-50/563\n",
            "Processing batch 50-100/563\n",
            "Processing batch 100-150/563\n",
            "Processing batch 150-200/563\n",
            "Processing batch 200-250/563\n",
            "Processing batch 250-300/563\n",
            "Processing batch 300-350/563\n",
            "Processing batch 350-400/563\n",
            "Processing batch 400-450/563\n",
            "Processing batch 450-500/563\n",
            "Processing batch 500-550/563\n",
            "Processing batch 550-563/563\n",
            "Features and labels saved to train_features_VGG16.h5\n",
            "Processing batch 0-50/63\n",
            "Processing batch 50-63/63\n",
            "Features and labels saved to test_features_VGG16.h5\n"
          ]
        }
      ],
      "source": [
        "# Calculate steps\n",
        "train_steps = int(np.ceil(train_dataset.n / BATCH_SIZE))\n",
        "test_steps = int(np.ceil(test_dataset.n / BATCH_SIZE))\n",
        "\n",
        "#location for saving file\n",
        "save_train_location = \"train_features_VGG16.h5\"\n",
        "save_test_location =  \"test_features_VGG16.h5\"\n",
        "\n",
        "# Save features for test and train\n",
        "save_cnn_features_and_labels_incrementally_to_h5(train_dataset, cnn_model, save_train_location, train_steps)\n",
        "save_cnn_features_and_labels_incrementally_to_h5(test_dataset, cnn_model, save_test_location, test_steps)"
      ]
    },
    {
      "cell_type": "markdown",
      "metadata": {},
      "source": [
        "> This function evaluates the performance of a model by calculating accuracy, precision, recall, and F1 score based on predictions on the test set. It also displays the confusion matrix and returns the performance metrics in a dictionary.\n"
      ]
    },
    {
      "cell_type": "code",
      "execution_count": 7,
      "metadata": {
        "id": "io8MnYymH6LU"
      },
      "outputs": [],
      "source": [
        "# Function to evaluate a model\n",
        "def evaluate_model(model, X_test, y_test, model_name):\n",
        "    \"\"\"\n",
        "    Evaluate a single model and return performance metrics.\n",
        "    \"\"\"\n",
        "    # Predict labels\n",
        "    y_pred = model.predict(X_test)\n",
        "\n",
        "    # Calculate metrics\n",
        "    accuracy = accuracy_score(y_test, y_pred)\n",
        "    precision = precision_score(y_test, y_pred, average=\"binary\" if len(np.unique(y_test)) == 2 else \"weighted\")\n",
        "    recall = recall_score(y_test, y_pred, average=\"binary\" if len(np.unique(y_test)) == 2 else \"weighted\")\n",
        "    f1 = f1_score(y_test, y_pred, average=\"binary\" if len(np.unique(y_test)) == 2 else \"weighted\")\n",
        "\n",
        "    # Print metrics\n",
        "    print(f\"--- {model_name} ---\")\n",
        "    print(f\"Accuracy: {accuracy:.4f}\")\n",
        "    print(f\"Precision: {precision:.4f}\")\n",
        "    print(f\"Recall: {recall:.4f}\")\n",
        "    print(f\"F1 Score: {f1:.4f}\\n\")\n",
        "\n",
        "    # Confusion matrix\n",
        "    cm = confusion_matrix(y_test, y_pred)\n",
        "    disp = ConfusionMatrixDisplay(confusion_matrix=cm, display_labels=classes)\n",
        "    disp.plot(cmap=plt.cm.Blues)\n",
        "    plt.title(f\"Confusion Matrix: {model_name}\")\n",
        "    plt.show()\n",
        "\n",
        "    return {\n",
        "        \"model_name\": model_name,\n",
        "        \"accuracy\": accuracy,\n",
        "        \"precision\": precision,\n",
        "        \"recall\": recall,\n",
        "        \"f1_score\": f1,\n",
        "    }"
      ]
    },
    {
      "cell_type": "markdown",
      "metadata": {},
      "source": [
        "> this function takes aa dictionary of models, train and test data and evaluates all of them"
      ]
    },
    {
      "cell_type": "code",
      "execution_count": 8,
      "metadata": {
        "id": "gyt6vLNDH8wD"
      },
      "outputs": [],
      "source": [
        "# Function to evaluate multiple models\n",
        "def evaluate_all_models(models, X_test, y_test):\n",
        "    \"\"\"\n",
        "    Evaluate multiple models and return a summary of metrics.\n",
        "    \"\"\"\n",
        "    results = []\n",
        "\n",
        "    for model_name, model in models.items():\n",
        "        try:\n",
        "            metrics = evaluate_model(model, X_test, y_test, model_name)\n",
        "            results.append(metrics)\n",
        "        except Exception as e:\n",
        "            print(f\"Error while evaluating {model_name}: {e}\")\n",
        "            results.append({model_name: \"Error during evaluation\"})  \n",
        "\n",
        "    return results\n"
      ]
    },
    {
      "cell_type": "markdown",
      "metadata": {},
      "source": [
        "> This functions load the image features that is saved on the device"
      ]
    },
    {
      "cell_type": "code",
      "execution_count": 9,
      "metadata": {
        "id": "2qZqj-JrIBaL"
      },
      "outputs": [],
      "source": [
        "# Example models and data loading (replace with your dataset and trained models)\n",
        "def load_features_and_labels(filename):\n",
        "    \"\"\"\n",
        "    Load features and labels from an .h5 file.\n",
        "    \"\"\"\n",
        "    with h5py.File(filename, \"r\") as f:\n",
        "        print(f\"Features dataset shape: {f['features'].shape}\")\n",
        "        print(f\"Labels dataset shape: {f['labels'].shape}\")\n",
        "        X = np.array(f[\"features\"])\n",
        "        y = np.array(f[\"labels\"])\n",
        "    return X, y"
      ]
    },
    {
      "cell_type": "code",
      "execution_count": 10,
      "metadata": {
        "colab": {
          "base_uri": "https://localhost:8080/"
        },
        "id": "-0_uZAWRIPmS",
        "outputId": "a7f94f23-f697-42e3-8f99-ba2fbf7bdba9"
      },
      "outputs": [
        {
          "name": "stdout",
          "output_type": "stream",
          "text": [
            "Features dataset shape: (18000, 512)\n",
            "Labels dataset shape: (18000, 4)\n",
            "Features dataset shape: (2000, 512)\n",
            "Labels dataset shape: (2000, 4)\n"
          ]
        }
      ],
      "source": [
        "# Load test dataset with appropriate location\n",
        "train_features_file = \"train_features_VGG16.h5\"\n",
        "test_features_file = \"test_features_VGG16.h5\"\n",
        "\n",
        "X_train, y_train = load_features_and_labels(train_features_file)\n",
        "X_test, y_test = load_features_and_labels(test_features_file)\n",
        "\n",
        "# Convert labels to 1D\n",
        "y_train = np.argmax(y_train, axis=1)\n",
        "y_test = np.argmax(y_test, axis=1)"
      ]
    },
    {
      "cell_type": "markdown",
      "metadata": {},
      "source": [
        "> Defining ML models for classifing the cancer"
      ]
    },
    {
      "cell_type": "code",
      "execution_count": 11,
      "metadata": {},
      "outputs": [],
      "source": [
        "# Define individual models\n",
        "knn = KNeighborsClassifier(n_neighbors=10)\n",
        "rf = RandomForestClassifier(n_estimators=100, random_state=42)\n",
        "svm = SVC(kernel=\"linear\", probability=True)\n",
        "gb = GradientBoostingClassifier(n_estimators=100, random_state=42)\n",
        "logreg = LogisticRegression(max_iter=1000, random_state=42)\n",
        "dt = DecisionTreeClassifier(max_depth=10, random_state=42)\n",
        "nb = GaussianNB()\n",
        "mlp = MLPClassifier(hidden_layer_sizes=(128, 64), max_iter=1000, random_state=42)\n",
        "xgb = XGBClassifier(n_estimators=100, learning_rate=0.1, random_state=42)\n",
        "lgbm = LGBMClassifier(n_estimators=100, learning_rate=0.1, random_state=42, force_col_wise=True )\n",
        "et = ExtraTreesClassifier(n_estimators=100, random_state=42)\n",
        "adaboost = AdaBoostClassifier(n_estimators=100, random_state=42)\n",
        "\n",
        "# Stacking Classifier (Logistic Regression as the meta-classifier)\n",
        "stacking = StackingClassifier(estimators=[\n",
        "    ('knn', knn),\n",
        "    ('svm', svm),\n",
        "    ('mlp', mlp),\n",
        "    ('lgbm', lgbm),\n",
        "], final_estimator=LogisticRegression(random_state=42))"
      ]
    },
    {
      "cell_type": "markdown",
      "metadata": {},
      "source": [
        "> Trains all models here"
      ]
    },
    {
      "cell_type": "code",
      "execution_count": 13,
      "metadata": {},
      "outputs": [
        {
          "name": "stdout",
          "output_type": "stream",
          "text": [
            "Training stacking...\n"
          ]
        },
        {
          "name": "stderr",
          "output_type": "stream",
          "text": [
            "c:\\Users\\Faysal Ahmmed\\miniconda3\\envs\\py310\\lib\\site-packages\\joblib\\externals\\loky\\backend\\context.py:136: UserWarning: Could not find the number of physical cores for the following reason:\n",
            "[WinError 2] The system cannot find the file specified\n",
            "Returning the number of logical cores instead. You can silence this warning by setting LOKY_MAX_CPU_COUNT to the number of cores you want to use.\n",
            "  warnings.warn(\n",
            "  File \"c:\\Users\\Faysal Ahmmed\\miniconda3\\envs\\py310\\lib\\site-packages\\joblib\\externals\\loky\\backend\\context.py\", line 257, in _count_physical_cores\n",
            "    cpu_info = subprocess.run(\n",
            "  File \"c:\\Users\\Faysal Ahmmed\\miniconda3\\envs\\py310\\lib\\subprocess.py\", line 503, in run\n",
            "    with Popen(*popenargs, **kwargs) as process:\n",
            "  File \"c:\\Users\\Faysal Ahmmed\\miniconda3\\envs\\py310\\lib\\subprocess.py\", line 971, in __init__\n",
            "    self._execute_child(args, executable, preexec_fn, close_fds,\n",
            "  File \"c:\\Users\\Faysal Ahmmed\\miniconda3\\envs\\py310\\lib\\subprocess.py\", line 1456, in _execute_child\n",
            "    hp, ht, pid, tid = _winapi.CreateProcess(executable, args,\n",
            "c:\\Users\\Faysal Ahmmed\\miniconda3\\envs\\py310\\lib\\site-packages\\sklearn\\utils\\deprecation.py:151: FutureWarning: 'force_all_finite' was renamed to 'ensure_all_finite' in 1.6 and will be removed in 1.8.\n",
            "  warnings.warn(\n"
          ]
        },
        {
          "name": "stdout",
          "output_type": "stream",
          "text": [
            "[LightGBM] [Info] Total Bins 123340\n",
            "[LightGBM] [Info] Number of data points in the train set: 18000, number of used features: 505\n",
            "[LightGBM] [Info] Start training from score -1.386294\n",
            "[LightGBM] [Info] Start training from score -1.386294\n",
            "[LightGBM] [Info] Start training from score -1.386294\n",
            "[LightGBM] [Info] Start training from score -1.386294\n"
          ]
        },
        {
          "name": "stderr",
          "output_type": "stream",
          "text": [
            "c:\\Users\\Faysal Ahmmed\\miniconda3\\envs\\py310\\lib\\site-packages\\sklearn\\utils\\deprecation.py:151: FutureWarning: 'force_all_finite' was renamed to 'ensure_all_finite' in 1.6 and will be removed in 1.8.\n",
            "  warnings.warn(\n"
          ]
        },
        {
          "name": "stdout",
          "output_type": "stream",
          "text": [
            "[LightGBM] [Info] Total Bins 122193\n",
            "[LightGBM] [Info] Number of data points in the train set: 14400, number of used features: 504\n",
            "[LightGBM] [Info] Start training from score -1.386294\n",
            "[LightGBM] [Info] Start training from score -1.386294\n",
            "[LightGBM] [Info] Start training from score -1.386294\n",
            "[LightGBM] [Info] Start training from score -1.386294\n"
          ]
        },
        {
          "name": "stderr",
          "output_type": "stream",
          "text": [
            "c:\\Users\\Faysal Ahmmed\\miniconda3\\envs\\py310\\lib\\site-packages\\sklearn\\utils\\deprecation.py:151: FutureWarning: 'force_all_finite' was renamed to 'ensure_all_finite' in 1.6 and will be removed in 1.8.\n",
            "  warnings.warn(\n",
            "c:\\Users\\Faysal Ahmmed\\miniconda3\\envs\\py310\\lib\\site-packages\\sklearn\\utils\\deprecation.py:151: FutureWarning: 'force_all_finite' was renamed to 'ensure_all_finite' in 1.6 and will be removed in 1.8.\n",
            "  warnings.warn(\n"
          ]
        },
        {
          "name": "stdout",
          "output_type": "stream",
          "text": [
            "[LightGBM] [Info] Total Bins 122243\n",
            "[LightGBM] [Info] Number of data points in the train set: 14400, number of used features: 504\n",
            "[LightGBM] [Info] Start training from score -1.386294\n",
            "[LightGBM] [Info] Start training from score -1.386294\n",
            "[LightGBM] [Info] Start training from score -1.386294\n",
            "[LightGBM] [Info] Start training from score -1.386294\n"
          ]
        },
        {
          "name": "stderr",
          "output_type": "stream",
          "text": [
            "c:\\Users\\Faysal Ahmmed\\miniconda3\\envs\\py310\\lib\\site-packages\\sklearn\\utils\\deprecation.py:151: FutureWarning: 'force_all_finite' was renamed to 'ensure_all_finite' in 1.6 and will be removed in 1.8.\n",
            "  warnings.warn(\n",
            "c:\\Users\\Faysal Ahmmed\\miniconda3\\envs\\py310\\lib\\site-packages\\sklearn\\utils\\deprecation.py:151: FutureWarning: 'force_all_finite' was renamed to 'ensure_all_finite' in 1.6 and will be removed in 1.8.\n",
            "  warnings.warn(\n"
          ]
        },
        {
          "name": "stdout",
          "output_type": "stream",
          "text": [
            "[LightGBM] [Info] Total Bins 122258\n",
            "[LightGBM] [Info] Number of data points in the train set: 14400, number of used features: 504\n",
            "[LightGBM] [Info] Start training from score -1.386294\n",
            "[LightGBM] [Info] Start training from score -1.386294\n",
            "[LightGBM] [Info] Start training from score -1.386294\n",
            "[LightGBM] [Info] Start training from score -1.386294\n"
          ]
        },
        {
          "name": "stderr",
          "output_type": "stream",
          "text": [
            "c:\\Users\\Faysal Ahmmed\\miniconda3\\envs\\py310\\lib\\site-packages\\sklearn\\utils\\deprecation.py:151: FutureWarning: 'force_all_finite' was renamed to 'ensure_all_finite' in 1.6 and will be removed in 1.8.\n",
            "  warnings.warn(\n",
            "c:\\Users\\Faysal Ahmmed\\miniconda3\\envs\\py310\\lib\\site-packages\\sklearn\\utils\\deprecation.py:151: FutureWarning: 'force_all_finite' was renamed to 'ensure_all_finite' in 1.6 and will be removed in 1.8.\n",
            "  warnings.warn(\n"
          ]
        },
        {
          "name": "stdout",
          "output_type": "stream",
          "text": [
            "[LightGBM] [Info] Total Bins 122284\n",
            "[LightGBM] [Info] Number of data points in the train set: 14400, number of used features: 504\n",
            "[LightGBM] [Info] Start training from score -1.386294\n",
            "[LightGBM] [Info] Start training from score -1.386294\n",
            "[LightGBM] [Info] Start training from score -1.386294\n",
            "[LightGBM] [Info] Start training from score -1.386294\n"
          ]
        },
        {
          "name": "stderr",
          "output_type": "stream",
          "text": [
            "c:\\Users\\Faysal Ahmmed\\miniconda3\\envs\\py310\\lib\\site-packages\\sklearn\\utils\\deprecation.py:151: FutureWarning: 'force_all_finite' was renamed to 'ensure_all_finite' in 1.6 and will be removed in 1.8.\n",
            "  warnings.warn(\n",
            "c:\\Users\\Faysal Ahmmed\\miniconda3\\envs\\py310\\lib\\site-packages\\sklearn\\utils\\deprecation.py:151: FutureWarning: 'force_all_finite' was renamed to 'ensure_all_finite' in 1.6 and will be removed in 1.8.\n",
            "  warnings.warn(\n"
          ]
        },
        {
          "name": "stdout",
          "output_type": "stream",
          "text": [
            "[LightGBM] [Info] Total Bins 122279\n",
            "[LightGBM] [Info] Number of data points in the train set: 14400, number of used features: 504\n",
            "[LightGBM] [Info] Start training from score -1.386294\n",
            "[LightGBM] [Info] Start training from score -1.386294\n",
            "[LightGBM] [Info] Start training from score -1.386294\n",
            "[LightGBM] [Info] Start training from score -1.386294\n",
            "stacking trained successfully.\n"
          ]
        },
        {
          "name": "stderr",
          "output_type": "stream",
          "text": [
            "c:\\Users\\Faysal Ahmmed\\miniconda3\\envs\\py310\\lib\\site-packages\\sklearn\\utils\\deprecation.py:151: FutureWarning: 'force_all_finite' was renamed to 'ensure_all_finite' in 1.6 and will be removed in 1.8.\n",
            "  warnings.warn(\n"
          ]
        }
      ],
      "source": [
        "# List of models to train\n",
        "models = {\n",
        "    \"knn\": knn,\n",
        "    \"rf\": rf,\n",
        "    \"svm\": svm,\n",
        "    \"gb\": gb,\n",
        "    \"logreg\": logreg,\n",
        "    \"dt\": dt,\n",
        "    \"nb\": nb,\n",
        "    \"mlp\": mlp,\n",
        "    \"xgb\": xgb,\n",
        "    \"lgbm\": lgbm,\n",
        "    \"et\": et,\n",
        "    \"adaboost\": adaboost,\n",
        "    \"stacking\": stacking\n",
        "}\n",
        "\n",
        "# Train each model\n",
        "for name, model in models.items():\n",
        "    try:\n",
        "        print(f\"Training {name}...\")\n",
        "        model.fit(X_train, y_train)\n",
        "        print(f\"{name} trained successfully.\")\n",
        "    except Exception as e:\n",
        "        print(f\"Error while training {name}: {e}\")"
      ]
    },
    {
      "cell_type": "markdown",
      "metadata": {},
      "source": [
        "> Evaluating and printing confusion matrix here"
      ]
    },
    {
      "cell_type": "code",
      "execution_count": 14,
      "metadata": {},
      "outputs": [
        {
          "name": "stderr",
          "output_type": "stream",
          "text": [
            "c:\\Users\\Faysal Ahmmed\\miniconda3\\envs\\py310\\lib\\site-packages\\sklearn\\utils\\deprecation.py:151: FutureWarning: 'force_all_finite' was renamed to 'ensure_all_finite' in 1.6 and will be removed in 1.8.\n",
            "  warnings.warn(\n"
          ]
        },
        {
          "name": "stdout",
          "output_type": "stream",
          "text": [
            "--- stacking ---\n",
            "Accuracy: 0.9995\n",
            "Precision: 0.9995\n",
            "Recall: 0.9995\n",
            "F1 Score: 0.9995\n",
            "\n"
          ]
        },
        {
          "data": {
            "image/png": "[encoded data removed]",
            "text/plain": [
              "<Figure size 640x480 with 2 Axes>"
            ]
          },
          "metadata": {},
          "output_type": "display_data"
        },
        {
          "name": "stdout",
          "output_type": "stream",
          "text": [
            "\n",
            "Summary of Model Performance:\n",
            "  model_name  accuracy  precision  recall  f1_score\n",
            "0   stacking    0.9995   0.999501  0.9995    0.9995\n"
          ]
        }
      ],
      "source": [
        "# Evaluate all models\n",
        "results = evaluate_all_models(models, X_test, y_test)\n",
        "\n",
        "# Summarize results\n",
        "summary_df = pd.DataFrame(results)\n",
        "print(\"\\nSummary of Model Performance:\")\n",
        "print(summary_df.sort_values(by=\"accuracy\", ascending=False))"
      ]
    },
    {
      "cell_type": "markdown",
      "metadata": {},
      "source": [
        "> saving the final model into the disk"
      ]
    },
    {
      "cell_type": "code",
      "execution_count": 15,
      "metadata": {},
      "outputs": [],
      "source": [
        "with open(\"stacking_model.pkl\", \"wb\") as f:\n",
        "    pickle.dump(stacking, f)"
      ]
    }
  ],
  "metadata": {
    "accelerator": "GPU",
    "colab": {
      "gpuType": "T4",
      "provenance": []
    },
    "kernelspec": {
      "display_name": "py310",
      "language": "python",
      "name": "python3"
    },
    "language_info": {
      "codemirror_mode": {
        "name": "ipython",
        "version": 3
      },
      "file_extension": ".py",
      "mimetype": "text/x-python",
      "name": "python",
      "nbconvert_exporter": "python",
      "pygments_lexer": "ipython3",
      "version": "3.10.16"
    }
  },
  "nbformat": 4,
  "nbformat_minor": 0
}
